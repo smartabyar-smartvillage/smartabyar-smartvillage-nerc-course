{
 "cells": [
  {
   "cell_type": "markdown",
   "id": "fb657b93-d1e1-4bc5-8b8f-25bd212beb85",
   "metadata": {},
   "source": [
    "# "
   ]
  },
  {
   "cell_type": "code",
   "execution_count": null,
   "id": "afb89892-f417-4fba-9c1c-d0f04d328af1",
   "metadata": {},
   "outputs": [],
   "source": [
    "%%bash\n",
    "install -d ~/.local/src/smartabyar-smartvillage\n",
    "git clone https://github.com/computate-org/computate.git ~/computate\n",
    "git clone https://github.com/computate-org/computate-search.git ~/computate-search\n",
    "git clone https://github.com/computate-org/computate-vertx.git ~/computate-vertx\n",
    "git clone https://github.com/computate-org/smartvillage-platform.git ~/smartvillage-platform\n",
    "git clone https://github.com/computate-org/smartvillage-platform-static.git ~/smartvillage-platform-static\n",
    "git clone https://github.com/computate-org/smartabyar-smartvillage.git ~/smartabyar-smartvillage\n",
    "git clone https://github.com/computate-org/smartabyar-smartvillage-static.git ~/smartabyar-smartvillage-static\n",
    "echo DONE"
   ]
  },
  {
   "cell_type": "code",
   "execution_count": null,
   "id": "50663f45-25ce-4551-8550-0986e67369be",
   "metadata": {},
   "outputs": [],
   "source": [
    "%%bash\n",
    "install -d ~/.ansible/roles\n",
    "git clone git@github.com:computate-org/computate_project.git ~/.ansible/roles/computate.computate_project\n",
    "echo DONE"
   ]
  },
  {
   "cell_type": "code",
   "execution_count": null,
   "id": "354b35b8-213b-4151-a9b0-a2fba25ee86e",
   "metadata": {
    "tags": []
   },
   "outputs": [],
   "source": [
    "%%bash\n",
    "#ansible-playbook ~/.ansible/roles/computate.computate_project/install.yml -e SITE_NAME=computate-search -e ENABLE_CODE_GENERATION_SERVICE=true -e SYSTEMD_ENABLED=false -e SITE_PREFIX=/opt/app-root/src\n",
    "(cd ~/computate && env JAVA_HOME=/usr/lib/jvm/java-11-openjdk mvn clean install)\n",
    "echo DONE"
   ]
  },
  {
   "cell_type": "code",
   "execution_count": null,
   "id": "eff18d30-1f7b-4503-8358-e140ab9aaffb",
   "metadata": {
    "tags": []
   },
   "outputs": [],
   "source": [
    "%%bash\n",
    "ansible-playbook ~/.ansible/roles/computate.computate_project/install.yml \\\n",
    "  -e SITE_NAME=computate-search \\\n",
    "  -e SYSTEMD_ENABLED=false \\\n",
    "  -e SITE_PREFIX=/opt/app-root/src \\\n",
    "  -e SOLR_HOST_NAME=solr \\\n",
    "  -e SOLR_PORT=8983 \\\n",
    "  -e SOLR_SSL=false \\\n",
    "  -e SOLR_URL=\"http://solr:8983/solr/computate-search\" \\\n",
    "  -e SOLR_URL_COMPUTATE=\"http://solr:8983/solr/computate\" \\\n",
    "  -e POSTGRES_NAMESPACE=$(cat /var/run/secrets/kubernetes.io/serviceaccount/namespace) \\\n",
    "  -e ZOOKEEPER_NAMESPACE=$(cat /var/run/secrets/kubernetes.io/serviceaccount/namespace) \\\n",
    "  -e SOLR_NAMESPACE=$(cat /var/run/secrets/kubernetes.io/serviceaccount/namespace)\n",
    "echo DONE"
   ]
  },
  {
   "cell_type": "code",
   "execution_count": null,
   "id": "237dab0c-ac5f-432a-9ae4-e12839655ffd",
   "metadata": {},
   "outputs": [],
   "source": [
    "%%bash\n",
    "env SITE_NAME=computate-search \\\n",
    "  SITE_PATH=$HOME/computate-search \\\n",
    "  COMPUTATE_SRC=$HOME/computate \\\n",
    "  SITE_LANG=enUS \\\n",
    "  ~/computate/bin/enUS/index.sh\n",
    "echo DONE"
   ]
  },
  {
   "cell_type": "code",
   "execution_count": null,
   "id": "07b88d5d-86f9-4ecd-b755-5f6fdfdcdd0e",
   "metadata": {
    "tags": []
   },
   "outputs": [],
   "source": [
    "%%bash\n",
    "ansible-playbook ~/.ansible/roles/computate.computate_project/install.yml \\\n",
    "  -e SITE_NAME=computate-vertx \\\n",
    "  -e SYSTEMD_ENABLED=false \\\n",
    "  -e SITE_PREFIX=/opt/app-root/src \\\n",
    "  -e SOLR_HOST_NAME=solr \\\n",
    "  -e SOLR_PORT=8983 \\\n",
    "  -e SOLR_SSL=false \\\n",
    "  -e SOLR_URL=\"http://solr:8983/solr/computate-vertx\" \\\n",
    "  -e SOLR_URL_COMPUTATE=\"http://solr:8983/solr/computate\" \\\n",
    "  -e POSTGRES_NAMESPACE=$(cat /var/run/secrets/kubernetes.io/serviceaccount/namespace) \\\n",
    "  -e ZOOKEEPER_NAMESPACE=$(cat /var/run/secrets/kubernetes.io/serviceaccount/namespace) \\\n",
    "  -e SOLR_NAMESPACE=$(cat /var/run/secrets/kubernetes.io/serviceaccount/namespace)\n",
    "echo DONE"
   ]
  },
  {
   "cell_type": "code",
   "execution_count": null,
   "id": "5553d8bd-5e9c-45d5-8993-3c71f18fd9a7",
   "metadata": {},
   "outputs": [],
   "source": [
    "%%bash\n",
    "env SITE_NAME=computate-vertx \\\n",
    "  SITE_PATH=$HOME/computate-vertx \\\n",
    "  COMPUTATE_SRC=$HOME/computate \\\n",
    "  SITE_LANG=enUS \\\n",
    "  ~/computate/bin/enUS/index.sh\n",
    "echo DONE"
   ]
  },
  {
   "cell_type": "code",
   "execution_count": null,
   "id": "be865113-6e75-46cc-a2cf-e4a2c6e4cfa5",
   "metadata": {
    "tags": []
   },
   "outputs": [],
   "source": [
    "%%bash\n",
    "ansible-playbook ~/.ansible/roles/computate.computate_project/install.yml \\\n",
    "  -e SITE_NAME=smartvillage-platform \\\n",
    "  -e SYSTEMD_ENABLED=false \\\n",
    "  -e SITE_PREFIX=/opt/app-root/src \\\n",
    "  -e SOLR_HOST_NAME=solr \\\n",
    "  -e SOLR_PORT=8983 \\\n",
    "  -e SOLR_SSL=false \\\n",
    "  -e SOLR_URL=\"http://solr:8983/solr/smartvillage-platform\" \\\n",
    "  -e SOLR_URL_COMPUTATE=\"http://solr:8983/solr/computate\" \\\n",
    "  -e POSTGRES_NAMESPACE=$(cat /var/run/secrets/kubernetes.io/serviceaccount/namespace) \\\n",
    "  -e ZOOKEEPER_NAMESPACE=$(cat /var/run/secrets/kubernetes.io/serviceaccount/namespace) \\\n",
    "  -e SOLR_NAMESPACE=$(cat /var/run/secrets/kubernetes.io/serviceaccount/namespace)\n",
    "echo DONE"
   ]
  },
  {
   "cell_type": "code",
   "execution_count": null,
   "id": "52ab0585-f3ea-44a3-bb05-1d187b549d80",
   "metadata": {},
   "outputs": [],
   "source": [
    "%%bash\n",
    "env SITE_NAME=smartvillage-platform \\\n",
    "  SITE_PATH=$HOME/smartvillage-platform \\\n",
    "  COMPUTATE_SRC=$HOME/computate \\\n",
    "  SITE_LANG=enUS \\\n",
    "  ~/computate/bin/enUS/index.sh\n",
    "echo DONE"
   ]
  },
  {
   "cell_type": "code",
   "execution_count": null,
   "id": "6a8c84e5-ab51-4d2b-8988-1571858257ee",
   "metadata": {
    "tags": []
   },
   "outputs": [],
   "source": [
    "%%bash\n",
    "SITE_HOST_NAME=\"$(oc -n $(cat /var/run/secrets/kubernetes.io/serviceaccount/namespace) get route/sumodev -o jsonpath={.spec.host})\"\n",
    "AUTH_SECRET_NAME=\"$(oc -n $(cat /var/run/secrets/kubernetes.io/serviceaccount/namespace) get secret/keycloak-client-secret-smartvillage -o jsonpath={.data.CLIENT_SECRET})\"\n",
    "AUTH_CLIENT=\"$(oc -n $(cat /var/run/secrets/kubernetes.io/serviceaccount/namespace) get secret/keycloak-client-secret-smartvillage -o jsonpath={.data.CLIENT_ID} | base64 -d)\"\n",
    "AUTH_SECRET=\"$(oc -n $(cat /var/run/secrets/kubernetes.io/serviceaccount/namespace) get secret/keycloak-client-secret-smartvillage -o jsonpath={.data.CLIENT_SECRET} | base64 -d)\"\n",
    "\n",
    "oc extract -n $(cat /var/run/secrets/kubernetes.io/serviceaccount/namespace) secret/smartvillage-kafka --to=$HOME/smartabyar-smartvillage/config/ --keys=user.p12 --confirm\n",
    "KAFKA_SSL_KEYSTORE_PASSWORD=\"$(oc get -n $(cat /var/run/secrets/kubernetes.io/serviceaccount/namespace) secret/smartvillage-kafka -o 'jsonpath={.data.user\\.password}' | base64 -d)\"\n",
    "oc extract -n $(cat /var/run/secrets/kubernetes.io/serviceaccount/namespace) secret/default-cluster-ca-cert --to=$HOME/smartabyar-smartvillage/config/ --keys=ca.p12 --confirm\n",
    "KAFKA_SSL_TRUSTSTORE_PASSWORD=\"$(oc get -n $(cat /var/run/secrets/kubernetes.io/serviceaccount/namespace) secret/default-cluster-ca-cert -o 'jsonpath={.data.ca\\.password}' | base64 -d)\"\n",
    "\n",
    "ansible-playbook ~/.ansible/roles/computate.computate_project/install.yml \\\n",
    "  -e SITE_NAME=smartabyar-smartvillage \\\n",
    "  -e SYSTEMD_ENABLED=false \\\n",
    "  -e SITE_PREFIX=/opt/app-root/src \\\n",
    "  -e SOLR_HOST_NAME_COMPUTATE=solr \\\n",
    "  -e SOLR_PORT_COMPUTATE=8983 \\\n",
    "  -e SOLR_SSL_COMPUTATE=false \\\n",
    "  -e SOLR_HOST_NAME=solr \\\n",
    "  -e SOLR_PORT=8983 \\\n",
    "  -e SOLR_SSL=false \\\n",
    "  -e SOLR_URL=\"http://solr:8983/solr/smartabyar-smartvillage\" \\\n",
    "  -e SOLR_URL_COMPUTATE=\"http://solr:8983/solr/computate\" \\\n",
    "  -e ZOOKEEPER_HOST_NAME=zookeeper \\\n",
    "  -e ZOOKEEPER_PORT=2181 \\\n",
    "  -e JDBC_HOST=postgres-primary \\\n",
    "  -e JDBC_PORT=5432 \\\n",
    "  -e POSTGRES_NAMESPACE=$(cat /var/run/secrets/kubernetes.io/serviceaccount/namespace) \\\n",
    "  -e ZOOKEEPER_NAMESPACE=$(cat /var/run/secrets/kubernetes.io/serviceaccount/namespace) \\\n",
    "  -e SOLR_NAMESPACE=$(cat /var/run/secrets/kubernetes.io/serviceaccount/namespace) \\\n",
    "  -e SITE_BASE_URL=\"https://${SITE_HOST_NAME}\" \\\n",
    "  -e STATIC_BASE_URL=\"https://${SITE_HOST_NAME}/static\" \\\n",
    "  -e AUTH_CLIENT=\"${AUTH_CLIENT}\" \\\n",
    "  -e AUTH_SECRET=\"${AUTH_SECRET}\" \\\n",
    "  -e KAFKA_SSL_KEYSTORE_PASSWORD=\"${KAFKA_SSL_KEYSTORE_PASSWORD}\" \\\n",
    "  -e KAFKA_SSL_TRUSTSTORE_PASSWORD=\"${KAFKA_SSL_TRUSTSTORE_PASSWORD}\" \\\n",
    "  -e KAFKA_BROKERS=\"default-kafka-bootstrap:9093\" \\\n",
    "  -e ENABLE_IMPORT_DATA=false\n",
    "echo DONE"
   ]
  },
  {
   "cell_type": "code",
   "execution_count": null,
   "id": "67d80e4c-09e6-4751-91c5-e3734d7841c6",
   "metadata": {},
   "outputs": [],
   "source": [
    "%%bash\n",
    "env SITE_NAME=smartabyar-smartvillage \\\n",
    "  SITE_PATH=$HOME/smartabyar-smartvillage \\\n",
    "  COMPUTATE_SRC=$HOME/computate \\\n",
    "  SITE_LANG=enUS \\\n",
    "  ~/computate/bin/enUS/generate.sh\n",
    "echo DONE"
   ]
  },
  {
   "cell_type": "code",
   "execution_count": null,
   "id": "eacf59a6-a5bf-4b20-8be8-c85266d2a6f2",
   "metadata": {},
   "outputs": [],
   "source": [
    "%%bash\n",
    "echo '\n",
    "kind: Service\n",
    "apiVersion: v1\n",
    "metadata:\n",
    "  name: sumodev\n",
    "  namespace: smart-village-faeeb6c\n",
    "spec:\n",
    "  ports:\n",
    "    - protocol: TCP\n",
    "      port: 12080\n",
    "      targetPort: 12080\n",
    "  type: ClusterIP\n",
    "  selector:\n",
    "    notebook-name: sumo\n",
    "' | oc apply -f -\n"
   ]
  },
  {
   "cell_type": "code",
   "execution_count": null,
   "id": "f5962e5d-48c2-49c3-86cc-5f5d1ba7a8a6",
   "metadata": {},
   "outputs": [],
   "source": []
  }
 ],
 "metadata": {
  "kernelspec": {
   "display_name": "Python 3.9",
   "language": "python",
   "name": "python3"
  },
  "language_info": {
   "codemirror_mode": {
    "name": "ipython",
    "version": 3
   },
   "file_extension": ".py",
   "mimetype": "text/x-python",
   "name": "python",
   "nbconvert_exporter": "python",
   "pygments_lexer": "ipython3",
   "version": "3.9.18"
  }
 },
 "nbformat": 4,
 "nbformat_minor": 5
}
